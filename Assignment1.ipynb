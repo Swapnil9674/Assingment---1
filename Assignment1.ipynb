{
 "cells": [
  {
   "cell_type": "markdown",
   "id": "dd30f051",
   "metadata": {},
   "source": [
    "1. In the below elements which of them are values or an expression? eg:- values can be integer or string and expressions will be mathematical operators."
   ]
  },
  {
   "cell_type": "markdown",
   "id": "a24fbc68",
   "metadata": {},
   "source": [
    "Ans = \n",
    "*       = Arithmatical operator\n",
    "'hello' = string\n",
    "-87.8   = Float\n",
    "-       = Arithmatical operator \n",
    "/       = Arithmatical operator\n",
    "+       = Arithmatical operator  \n",
    "6       = Integer"
   ]
  },
  {
   "cell_type": "markdown",
   "id": "3fadae6a",
   "metadata": {},
   "source": [
    "2. What is the difference between string and variable?"
   ]
  },
  {
   "cell_type": "markdown",
   "id": "0e4bc8d0",
   "metadata": {},
   "source": [
    "Ans = Variables in programs are references to values that have types. String is simply one of the handful of types that Python uses along with various number types, collection types (list, string , tuple, dict, and set), objects and a few more.\n",
    "\n",
    "A variable is called that because the value it references can vary (in contrast to a constant like in some languages)."
   ]
  },
  {
   "cell_type": "markdown",
   "id": "34758929",
   "metadata": {},
   "source": [
    "3. Describe three different data types.\n"
   ]
  },
  {
   "cell_type": "markdown",
   "id": "617ec15b",
   "metadata": {},
   "source": [
    "Ans = Numbers: The Number data type is used to stores numeric values.\n",
    "String: The string data type is used to stores the sequence of characters.\n",
    "Tuple: Tuple data type is used to stores a collection of different data types of elements, and it is immutable."
   ]
  },
  {
   "cell_type": "markdown",
   "id": "7d096ed2",
   "metadata": {},
   "source": [
    "4. What is an expression made up of? What do all expressions do?"
   ]
  },
  {
   "cell_type": "markdown",
   "id": "68e03d7b",
   "metadata": {},
   "source": [
    "Ans = \n",
    "Constant Expressions: These are the expressions that have constant values only.\n",
    "Arithmetic Expressions: An arithmetic expression is a combination of numeric values, operators, and sometimes parenthesis. The result of this type of expression is also a numeric value. The operators used in these expressions are arithmetic operators like addition, subtraction.\n",
    "Integral Expressions: These are the kind of expressions that produce only integer results after all computations and type conversions.\n",
    "Floating Expressions: These are the kind of expressions which produce floating point numbers as result after all computations and type conversions.\n",
    "Relational Expressions: In these types of expressions, arithmetic expressions are written on both sides of relational operator (> , < , >= , <=). Those arithmetic expressions are evaluated first, and then compared as per relational operator and produce a boolean output in the end. These expressions are also called Boolean expressions."
   ]
  },
  {
   "cell_type": "markdown",
   "id": "7beee0ea",
   "metadata": {},
   "source": [
    "6. After running the following code, what does the variable bacon contain?"
   ]
  },
  {
   "cell_type": "code",
   "execution_count": 2,
   "id": "8ff555bb",
   "metadata": {},
   "outputs": [
    {
     "data": {
      "text/plain": [
       "23"
      ]
     },
     "execution_count": 2,
     "metadata": {},
     "output_type": "execute_result"
    }
   ],
   "source": [
    "bacon = 22\n",
    "bacon + 1"
   ]
  },
  {
   "cell_type": "markdown",
   "id": "755c6cb0",
   "metadata": {},
   "source": [
    "7. What should the values of the following two terms be?"
   ]
  },
  {
   "cell_type": "code",
   "execution_count": 3,
   "id": "7880f4ec",
   "metadata": {},
   "outputs": [
    {
     "data": {
      "text/plain": [
       "'spamspamspam'"
      ]
     },
     "execution_count": 3,
     "metadata": {},
     "output_type": "execute_result"
    }
   ],
   "source": [
    "'spam&'+ 'spamspam'\n",
    "'spam' * 3"
   ]
  },
  {
   "cell_type": "markdown",
   "id": "0188f7a9",
   "metadata": {},
   "source": [
    "10. Why does this expression cause an error? How can you fix it?\n",
    "'I have eaten'+ 99 +'burritos'"
   ]
  },
  {
   "cell_type": "code",
   "execution_count": 7,
   "id": "dcbb01cb",
   "metadata": {},
   "outputs": [
    {
     "data": {
      "text/plain": [
       "'I have eaten 99 burritos'"
      ]
     },
     "execution_count": 7,
     "metadata": {},
     "output_type": "execute_result"
    }
   ],
   "source": [
    "'I have eaten'+\" 99 \"+'burritos'"
   ]
  },
  {
   "cell_type": "code",
   "execution_count": null,
   "id": "46bd9ad1",
   "metadata": {},
   "outputs": [],
   "source": []
  }
 ],
 "metadata": {
  "kernelspec": {
   "display_name": "Python 3",
   "language": "python",
   "name": "python3"
  },
  "language_info": {
   "codemirror_mode": {
    "name": "ipython",
    "version": 3
   },
   "file_extension": ".py",
   "mimetype": "text/x-python",
   "name": "python",
   "nbconvert_exporter": "python",
   "pygments_lexer": "ipython3",
   "version": "3.8.8"
  }
 },
 "nbformat": 4,
 "nbformat_minor": 5
}
